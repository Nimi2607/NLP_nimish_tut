{
 "cells": [
  {
   "cell_type": "code",
   "execution_count": 2,
   "id": "44c71c4d-fb2b-49a6-95ab-8e31954c1c75",
   "metadata": {},
   "outputs": [
    {
     "name": "stderr",
     "output_type": "stream",
     "text": [
      "python(6326) MallocStackLogging: can't turn off malloc stack logging because it was not enabled.\n"
     ]
    },
    {
     "name": "stdout",
     "output_type": "stream",
     "text": [
      "Requirement already satisfied: nltk in /opt/anaconda3/lib/python3.12/site-packages (3.8.1)\n",
      "Requirement already satisfied: click in /opt/anaconda3/lib/python3.12/site-packages (from nltk) (8.1.7)\n",
      "Requirement already satisfied: joblib in /opt/anaconda3/lib/python3.12/site-packages (from nltk) (1.4.2)\n",
      "Requirement already satisfied: regex>=2021.8.3 in /opt/anaconda3/lib/python3.12/site-packages (from nltk) (2023.10.3)\n",
      "Requirement already satisfied: tqdm in /opt/anaconda3/lib/python3.12/site-packages (from nltk) (4.66.4)\n",
      "Note: you may need to restart the kernel to use updated packages.\n"
     ]
    }
   ],
   "source": [
    "pip install nltk"
   ]
  },
  {
   "cell_type": "code",
   "execution_count": 16,
   "id": "3ed59029-fb9b-4669-a8f6-ad6360426145",
   "metadata": {},
   "outputs": [],
   "source": [
    "corpus = \"\"\"Hello, welcome to Nimish's ipynb. \n",
    "This is an ipynb with NLTK tutorials! Please read it carefully.\n",
    "\"\"\""
   ]
  },
  {
   "cell_type": "code",
   "execution_count": 18,
   "id": "09294e5a-a1d6-445e-9d27-0ed9c111dfe2",
   "metadata": {},
   "outputs": [
    {
     "name": "stdout",
     "output_type": "stream",
     "text": [
      "Hello, welcome to Nimish's ipynb. \n",
      "This is an ipynb with NLTK tutorials! Please read it carefully.\n",
      "\n"
     ]
    }
   ],
   "source": [
    "print (corpus)"
   ]
  },
  {
   "cell_type": "code",
   "execution_count": 20,
   "id": "b826a451-7e09-4efe-9420-65f184d58195",
   "metadata": {},
   "outputs": [],
   "source": [
    "##Sentence ----> prargraph"
   ]
  },
  {
   "cell_type": "code",
   "execution_count": 21,
   "id": "3f3c3ffd-d62c-4035-b7d5-43374d3ce478",
   "metadata": {},
   "outputs": [
    {
     "data": {
      "text/plain": [
       "[\"Hello, welcome to Nimish's ipynb.\",\n",
       " 'This is an ipynb with NLTK tutorials!',\n",
       " 'Please read it carefully.']"
      ]
     },
     "execution_count": 21,
     "metadata": {},
     "output_type": "execute_result"
    }
   ],
   "source": [
    "from nltk.tokenize import sent_tokenize\n",
    "sent_tokenize(corpus)"
   ]
  },
  {
   "cell_type": "code",
   "execution_count": 26,
   "id": "ca7f31b0-f864-4670-9cf5-35fe715a037f",
   "metadata": {},
   "outputs": [],
   "source": [
    "#tokenization\n",
    "#Paragraphs---> words\n",
    "# sentences---> words\n",
    "from nltk.tokenize import word_tokenize"
   ]
  },
  {
   "cell_type": "code",
   "execution_count": 28,
   "id": "77d673af-0fe2-4032-955f-04f6e7f562ba",
   "metadata": {},
   "outputs": [
    {
     "data": {
      "text/plain": [
       "['Hello',\n",
       " ',',\n",
       " 'welcome',\n",
       " 'to',\n",
       " 'Nimish',\n",
       " \"'s\",\n",
       " 'ipynb',\n",
       " '.',\n",
       " 'This',\n",
       " 'is',\n",
       " 'an',\n",
       " 'ipynb',\n",
       " 'with',\n",
       " 'NLTK',\n",
       " 'tutorials',\n",
       " '!',\n",
       " 'Please',\n",
       " 'read',\n",
       " 'it',\n",
       " 'carefully',\n",
       " '.']"
      ]
     },
     "execution_count": 28,
     "metadata": {},
     "output_type": "execute_result"
    }
   ],
   "source": [
    "word_tokenize(corpus)"
   ]
  },
  {
   "cell_type": "code",
   "execution_count": 31,
   "id": "ef4a8247-b88a-417c-96f9-9c7886fa839d",
   "metadata": {},
   "outputs": [
    {
     "data": {
      "text/plain": [
       "['Hello',\n",
       " ',',\n",
       " 'welcome',\n",
       " 'to',\n",
       " 'Nimish',\n",
       " \"'\",\n",
       " 's',\n",
       " 'ipynb',\n",
       " '.',\n",
       " 'This',\n",
       " 'is',\n",
       " 'an',\n",
       " 'ipynb',\n",
       " 'with',\n",
       " 'NLTK',\n",
       " 'tutorials',\n",
       " '!',\n",
       " 'Please',\n",
       " 'read',\n",
       " 'it',\n",
       " 'carefully',\n",
       " '.']"
      ]
     },
     "execution_count": 31,
     "metadata": {},
     "output_type": "execute_result"
    }
   ],
   "source": [
    "from nltk.tokenize import wordpunct_tokenize\n",
    "wordpunct_tokenize(corpus)"
   ]
  },
  {
   "cell_type": "code",
   "execution_count": 33,
   "id": "1a08627a-fef4-45e9-beff-da88de83e315",
   "metadata": {},
   "outputs": [],
   "source": [
    "from nltk.tokenize import TreebankWordTokenizer\n",
    "tokenizer = TreebankWordTokenizer()"
   ]
  },
  {
   "cell_type": "code",
   "execution_count": 35,
   "id": "93efc04a-83b4-462b-80e2-694eed690285",
   "metadata": {},
   "outputs": [
    {
     "data": {
      "text/plain": [
       "['Hello',\n",
       " ',',\n",
       " 'welcome',\n",
       " 'to',\n",
       " 'Nimish',\n",
       " \"'s\",\n",
       " 'ipynb.',\n",
       " 'This',\n",
       " 'is',\n",
       " 'an',\n",
       " 'ipynb',\n",
       " 'with',\n",
       " 'NLTK',\n",
       " 'tutorials',\n",
       " '!',\n",
       " 'Please',\n",
       " 'read',\n",
       " 'it',\n",
       " 'carefully',\n",
       " '.']"
      ]
     },
     "execution_count": 35,
     "metadata": {},
     "output_type": "execute_result"
    }
   ],
   "source": [
    "tokenizer.tokenize(corpus)"
   ]
  },
  {
   "cell_type": "code",
   "execution_count": null,
   "id": "d1adc8c3-d8d3-4934-95c3-5f5a96201e6a",
   "metadata": {},
   "outputs": [],
   "source": []
  }
 ],
 "metadata": {
  "kernelspec": {
   "display_name": "Python [conda env:base] *",
   "language": "python",
   "name": "conda-base-py"
  },
  "language_info": {
   "codemirror_mode": {
    "name": "ipython",
    "version": 3
   },
   "file_extension": ".py",
   "mimetype": "text/x-python",
   "name": "python",
   "nbconvert_exporter": "python",
   "pygments_lexer": "ipython3",
   "version": "3.12.2"
  }
 },
 "nbformat": 4,
 "nbformat_minor": 5
}
